{
 "cells": [
  {
   "cell_type": "markdown",
   "metadata": {},
   "source": [
    "<p style=\"text-align:center\">\n",
    "    <a href=\"https://skills.network\" target=\"_blank\">\n",
    "    <img src=\"https://cf-courses-data.s3.us.cloud-object-storage.appdomain.cloud/assets/logos/SN_web_lightmode.png\" width=\"200\" alt=\"Skills Network Logo\"  />\n",
    "    </a>\n",
    "</p>\n"
   ]
  },
  {
   "cell_type": "markdown",
   "metadata": {},
   "source": [
    "# **Histogram**\n"
   ]
  },
  {
   "cell_type": "markdown",
   "metadata": {},
   "source": [
    "Estimated time needed: **45** minutes\n"
   ]
  },
  {
   "cell_type": "markdown",
   "metadata": {},
   "source": [
    "In this lab, you will focus on the visualization of data. The dataset will be provided through an RDBMS, and you will need to use SQL queries to extract the required data.\n"
   ]
  },
  {
   "cell_type": "markdown",
   "metadata": {},
   "source": [
    "## Objectives\n"
   ]
  },
  {
   "cell_type": "markdown",
   "metadata": {},
   "source": [
    "In this lab, you will perform the following:\n"
   ]
  },
  {
   "cell_type": "markdown",
   "metadata": {},
   "source": [
    "- Visualize the distribution of data using histograms.\n",
    "\n",
    "- Visualize relationships between features.\n",
    "\n",
    "- Explore data composition and comparisons.\n"
   ]
  },
  {
   "cell_type": "markdown",
   "metadata": {},
   "source": [
    "## Demo: Working with database\n"
   ]
  },
  {
   "cell_type": "markdown",
   "metadata": {},
   "source": [
    "#### Download the database file.\n"
   ]
  },
  {
   "cell_type": "code",
   "execution_count": 20,
   "metadata": {},
   "outputs": [
    {
     "name": "stdout",
     "output_type": "stream",
     "text": [
      "--2025-09-02 07:07:12--  https://cf-courses-data.s3.us.cloud-object-storage.appdomain.cloud/QR9YeprUYhOoLafzlLspAw/survey-results-public.sqlite\n",
      "Resolving cf-courses-data.s3.us.cloud-object-storage.appdomain.cloud (cf-courses-data.s3.us.cloud-object-storage.appdomain.cloud)... 169.63.118.104\n",
      "Connecting to cf-courses-data.s3.us.cloud-object-storage.appdomain.cloud (cf-courses-data.s3.us.cloud-object-storage.appdomain.cloud)|169.63.118.104|:443... connected.\n",
      "200 OKequest sent, awaiting response... \n",
      "Length: 211415040 (202M) [application/octet-stream]\n",
      "Saving to: ‘survey-data.sqlite’\n",
      "\n",
      "survey-data.sqlite  100%[===================>] 201.62M  48.3MB/s    in 4.3s    \n",
      "\n",
      "2025-09-02 07:07:17 (47.2 MB/s) - ‘survey-data.sqlite’ saved [211415040/211415040]\n",
      "\n"
     ]
    }
   ],
   "source": [
    "!wget -O survey-data.sqlite https://cf-courses-data.s3.us.cloud-object-storage.appdomain.cloud/QR9YeprUYhOoLafzlLspAw/survey-results-public.sqlite"
   ]
  },
  {
   "cell_type": "markdown",
   "metadata": {},
   "source": [
    "#### Install the required libraries and import them\n"
   ]
  },
  {
   "cell_type": "code",
   "execution_count": 21,
   "metadata": {},
   "outputs": [
    {
     "name": "stdout",
     "output_type": "stream",
     "text": [
      "Requirement already satisfied: pandas in /opt/conda/lib/python3.12/site-packages (2.3.2)\n",
      "Requirement already satisfied: numpy>=1.26.0 in /opt/conda/lib/python3.12/site-packages (from pandas) (2.3.2)\n",
      "Requirement already satisfied: python-dateutil>=2.8.2 in /opt/conda/lib/python3.12/site-packages (from pandas) (2.9.0.post0)\n",
      "Requirement already satisfied: pytz>=2020.1 in /opt/conda/lib/python3.12/site-packages (from pandas) (2024.2)\n",
      "Requirement already satisfied: tzdata>=2022.7 in /opt/conda/lib/python3.12/site-packages (from pandas) (2025.2)\n",
      "Requirement already satisfied: six>=1.5 in /opt/conda/lib/python3.12/site-packages (from python-dateutil>=2.8.2->pandas) (1.17.0)\n",
      "Requirement already satisfied: numpy in /opt/conda/lib/python3.12/site-packages (2.3.2)\n",
      "Requirement already satisfied: seaborn in /opt/conda/lib/python3.12/site-packages (0.13.2)\n",
      "Requirement already satisfied: numpy!=1.24.0,>=1.20 in /opt/conda/lib/python3.12/site-packages (from seaborn) (2.3.2)\n",
      "Requirement already satisfied: pandas>=1.2 in /opt/conda/lib/python3.12/site-packages (from seaborn) (2.3.2)\n",
      "Requirement already satisfied: matplotlib!=3.6.1,>=3.4 in /opt/conda/lib/python3.12/site-packages (from seaborn) (3.10.6)\n",
      "Requirement already satisfied: contourpy>=1.0.1 in /opt/conda/lib/python3.12/site-packages (from matplotlib!=3.6.1,>=3.4->seaborn) (1.3.3)\n",
      "Requirement already satisfied: cycler>=0.10 in /opt/conda/lib/python3.12/site-packages (from matplotlib!=3.6.1,>=3.4->seaborn) (0.12.1)\n",
      "Requirement already satisfied: fonttools>=4.22.0 in /opt/conda/lib/python3.12/site-packages (from matplotlib!=3.6.1,>=3.4->seaborn) (4.59.2)\n",
      "Requirement already satisfied: kiwisolver>=1.3.1 in /opt/conda/lib/python3.12/site-packages (from matplotlib!=3.6.1,>=3.4->seaborn) (1.4.9)\n",
      "Requirement already satisfied: packaging>=20.0 in /opt/conda/lib/python3.12/site-packages (from matplotlib!=3.6.1,>=3.4->seaborn) (24.2)\n",
      "Requirement already satisfied: pillow>=8 in /opt/conda/lib/python3.12/site-packages (from matplotlib!=3.6.1,>=3.4->seaborn) (11.3.0)\n",
      "Requirement already satisfied: pyparsing>=2.3.1 in /opt/conda/lib/python3.12/site-packages (from matplotlib!=3.6.1,>=3.4->seaborn) (3.2.3)\n",
      "Requirement already satisfied: python-dateutil>=2.7 in /opt/conda/lib/python3.12/site-packages (from matplotlib!=3.6.1,>=3.4->seaborn) (2.9.0.post0)\n",
      "Requirement already satisfied: pytz>=2020.1 in /opt/conda/lib/python3.12/site-packages (from pandas>=1.2->seaborn) (2024.2)\n",
      "Requirement already satisfied: tzdata>=2022.7 in /opt/conda/lib/python3.12/site-packages (from pandas>=1.2->seaborn) (2025.2)\n",
      "Requirement already satisfied: six>=1.5 in /opt/conda/lib/python3.12/site-packages (from python-dateutil>=2.7->matplotlib!=3.6.1,>=3.4->seaborn) (1.17.0)\n"
     ]
    }
   ],
   "source": [
    "!pip install pandas\n",
    "!pip install numpy\n",
    "!pip install seaborn"
   ]
  },
  {
   "cell_type": "code",
   "execution_count": 22,
   "metadata": {},
   "outputs": [
    {
     "name": "stdout",
     "output_type": "stream",
     "text": [
      "Requirement already satisfied: matplotlib in /opt/conda/lib/python3.12/site-packages (3.10.6)\n",
      "Requirement already satisfied: contourpy>=1.0.1 in /opt/conda/lib/python3.12/site-packages (from matplotlib) (1.3.3)\n",
      "Requirement already satisfied: cycler>=0.10 in /opt/conda/lib/python3.12/site-packages (from matplotlib) (0.12.1)\n",
      "Requirement already satisfied: fonttools>=4.22.0 in /opt/conda/lib/python3.12/site-packages (from matplotlib) (4.59.2)\n",
      "Requirement already satisfied: kiwisolver>=1.3.1 in /opt/conda/lib/python3.12/site-packages (from matplotlib) (1.4.9)\n",
      "Requirement already satisfied: numpy>=1.23 in /opt/conda/lib/python3.12/site-packages (from matplotlib) (2.3.2)\n",
      "Requirement already satisfied: packaging>=20.0 in /opt/conda/lib/python3.12/site-packages (from matplotlib) (24.2)\n",
      "Requirement already satisfied: pillow>=8 in /opt/conda/lib/python3.12/site-packages (from matplotlib) (11.3.0)\n",
      "Requirement already satisfied: pyparsing>=2.3.1 in /opt/conda/lib/python3.12/site-packages (from matplotlib) (3.2.3)\n",
      "Requirement already satisfied: python-dateutil>=2.7 in /opt/conda/lib/python3.12/site-packages (from matplotlib) (2.9.0.post0)\n",
      "Requirement already satisfied: six>=1.5 in /opt/conda/lib/python3.12/site-packages (from python-dateutil>=2.7->matplotlib) (1.17.0)\n"
     ]
    }
   ],
   "source": [
    "!pip install matplotlib"
   ]
  },
  {
   "cell_type": "code",
   "execution_count": 23,
   "metadata": {},
   "outputs": [],
   "source": [
    "import sqlite3\n",
    "import pandas as pd\n",
    "import numpy as np\n",
    "import matplotlib.pyplot as plt\n",
    "import seaborn as sns"
   ]
  },
  {
   "cell_type": "markdown",
   "metadata": {},
   "source": [
    "#### Connect to the SQLite database\n"
   ]
  },
  {
   "cell_type": "code",
   "execution_count": 24,
   "metadata": {},
   "outputs": [],
   "source": [
    "conn = sqlite3.connect('survey-data.sqlite')"
   ]
  },
  {
   "cell_type": "markdown",
   "metadata": {},
   "source": [
    "## Demo: Basic SQL queries\n",
    "\n",
    "**Demo 1: Count the number of rows in the table**\n"
   ]
  },
  {
   "cell_type": "code",
   "execution_count": 25,
   "metadata": {},
   "outputs": [
    {
     "name": "stdout",
     "output_type": "stream",
     "text": [
      "   COUNT(*)\n",
      "0     65437\n"
     ]
    }
   ],
   "source": [
    "QUERY = \"SELECT COUNT(*) FROM main\"\n",
    "df = pd.read_sql_query(QUERY, conn)\n",
    "print(df)\n"
   ]
  },
  {
   "cell_type": "markdown",
   "metadata": {},
   "source": [
    "**Demo 2: List all tables**\n"
   ]
  },
  {
   "cell_type": "code",
   "execution_count": 26,
   "metadata": {},
   "outputs": [
    {
     "data": {
      "text/html": [
       "<div>\n",
       "<style scoped>\n",
       "    .dataframe tbody tr th:only-of-type {\n",
       "        vertical-align: middle;\n",
       "    }\n",
       "\n",
       "    .dataframe tbody tr th {\n",
       "        vertical-align: top;\n",
       "    }\n",
       "\n",
       "    .dataframe thead th {\n",
       "        text-align: right;\n",
       "    }\n",
       "</style>\n",
       "<table border=\"1\" class=\"dataframe\">\n",
       "  <thead>\n",
       "    <tr style=\"text-align: right;\">\n",
       "      <th></th>\n",
       "      <th>Table_Name</th>\n",
       "    </tr>\n",
       "  </thead>\n",
       "  <tbody>\n",
       "    <tr>\n",
       "      <th>0</th>\n",
       "      <td>main</td>\n",
       "    </tr>\n",
       "  </tbody>\n",
       "</table>\n",
       "</div>"
      ],
      "text/plain": [
       "  Table_Name\n",
       "0       main"
      ]
     },
     "execution_count": 26,
     "metadata": {},
     "output_type": "execute_result"
    }
   ],
   "source": [
    "QUERY = \"SELECT name as Table_Name FROM sqlite_master WHERE type = 'table'\"\n",
    "\n",
    "pd.read_sql_query(QUERY, conn)\n"
   ]
  },
  {
   "cell_type": "markdown",
   "metadata": {},
   "source": [
    "**Demo 3: Group data by age**\n"
   ]
  },
  {
   "cell_type": "code",
   "execution_count": 27,
   "metadata": {},
   "outputs": [
    {
     "name": "stdout",
     "output_type": "stream",
     "text": [
      "                  Age  count\n",
      "0     18-24 years old  14098\n",
      "1     25-34 years old  23911\n",
      "2     35-44 years old  14942\n",
      "3     45-54 years old   6249\n",
      "4     55-64 years old   2575\n",
      "5   65 years or older    772\n",
      "6   Prefer not to say    322\n",
      "7  Under 18 years old   2568\n"
     ]
    }
   ],
   "source": [
    "QUERY = \"SELECT Age, COUNT(*) as count FROM main GROUP BY Age ORDER BY Age\"\n",
    "df_age = pd.read_sql_query(QUERY, conn)\n",
    "print(df_age)\n"
   ]
  },
  {
   "cell_type": "markdown",
   "metadata": {},
   "source": [
    "## Hands-on Lab: Visualizing Data with Histograms\n"
   ]
  },
  {
   "cell_type": "markdown",
   "metadata": {},
   "source": [
    "### 1. Visualizing the distribution of data (Histograms)\n"
   ]
  },
  {
   "cell_type": "markdown",
   "metadata": {},
   "source": [
    "**1.1 Histogram of `CompTotal` (Total Compensation)**\n"
   ]
  },
  {
   "cell_type": "markdown",
   "metadata": {},
   "source": [
    "Objective: Plot a histogram of `CompTotal` to visualize the distribution of respondents' total compensation.\n"
   ]
  },
  {
   "cell_type": "code",
   "execution_count": 28,
   "metadata": {},
   "outputs": [
    {
     "data": {
      "image/png": "[encoded data removed]",
      "text/plain": [
       "<Figure size 1500x600 with 2 Axes>"
      ]
     },
     "metadata": {},
     "output_type": "display_data"
    }
   ],
   "source": [
    "## Write your code here\n",
    "# Connect and select table\n",
    "conn = sqlite3.connect('survey-data.sqlite')\n",
    "QUERY = \"SELECT * FROM main\"\n",
    "df = pd.read_sql_query(QUERY, conn)\n",
    "\n",
    "# Remove NaN values from the 'CompTotal' column\n",
    "df['CompTotal'] = df['CompTotal'].dropna()\n",
    "\n",
    "# Log transform the 'CompTotal' column\n",
    "df['LogCompTotal'] = np.log1p(df['CompTotal'])  # Use log1p to handle zero values\n",
    "\n",
    "# Create figure and axes for side-by-side histograms\n",
    "fig, (ax1, ax2) = plt.subplots(1, 2, figsize=(15, 6))\n",
    "\n",
    "# Plot original data histogram\n",
    "ax1.hist(df['CompTotal'], bins=30, color='blue', alpha=0.7)\n",
    "ax1.set_title('Total Compensation Distribution (Before Log Transform)')\n",
    "ax1.set_xlabel('Total Compensation')\n",
    "ax1.set_ylabel('Frequency')\n",
    "\n",
    "# Set x-axis limits for original data\n",
    "ax1.set_xlim(0, df['CompTotal'].quantile(0.95))  # Adjust as needed to focus on the main data range\n",
    "\n",
    "# Plot log-transformed data histogram\n",
    "ax2.hist(df['LogCompTotal'], bins=30, color='green', alpha=0.7)\n",
    "ax2.set_title('Log-Transformed Total Compensation Distribution')\n",
    "ax2.set_xlabel('Log of Total Compensation')\n",
    "ax2.set_ylabel('Frequency')\n",
    "\n",
    "# Set x-axis limits for log-transformed data\n",
    "ax2.set_xlim(df['LogCompTotal'].quantile(0.01), df['LogCompTotal'].quantile(0.99))  # Use ax2 here\n",
    "\n",
    "# Display the plot\n",
    "plt.tight_layout()  # Adjust layout for better spacing\n",
    "plt.show()"
   ]
  },
  {
   "cell_type": "markdown",
   "metadata": {},
   "source": [
    "**1.2 Histogram of YearsCodePro (Years of Professional Coding Experience)**\n"
   ]
  },
  {
   "cell_type": "markdown",
   "metadata": {},
   "source": [
    "Objective: Plot a histogram of `YearsCodePro` to analyze the distribution of coding experience among respondents.\n"
   ]
  },
  {
   "cell_type": "code",
   "execution_count": 29,
   "metadata": {},
   "outputs": [
    {
     "name": "stdout",
     "output_type": "stream",
     "text": [
      "Index(['ResponseId', 'MainBranch', 'Age', 'Employment', 'RemoteWork', 'Check',\n",
      "       'CodingActivities', 'EdLevel', 'LearnCode', 'LearnCodeOnline',\n",
      "       ...\n",
      "       'JobSatPoints_6', 'JobSatPoints_7', 'JobSatPoints_8', 'JobSatPoints_9',\n",
      "       'JobSatPoints_10', 'JobSatPoints_11', 'SurveyLength', 'SurveyEase',\n",
      "       'ConvertedCompYearly', 'JobSat'],\n",
      "      dtype='object', length=114)\n",
      "count     51610\n",
      "unique       52\n",
      "top           2\n",
      "freq       4168\n",
      "Name: YearsCodePro, dtype: object \n",
      "\n"
     ]
    }
   ],
   "source": [
    "conn = sqlite3.connect('survey-data.sqlite')\n",
    "QUERY = \"SELECT * FROM main\"\n",
    "df = pd.read_sql_query(QUERY, conn)\n",
    "\n",
    "# Check if the DataFrame is defined and the column exists\n",
    "print(df.columns)  # To see all column names\n",
    "\n",
    "# Describe the column\n",
    "print(df['YearsCodePro'].describe(), '\\n')"
   ]
  },
  {
   "cell_type": "code",
   "execution_count": 30,
   "metadata": {},
   "outputs": [
    {
     "name": "stdout",
     "output_type": "stream",
     "text": [
      "<class 'pandas.core.series.Series'>\n",
      "RangeIndex: 65437 entries, 0 to 65436\n",
      "Series name: YearsCodePro\n",
      "Non-Null Count  Dtype \n",
      "--------------  ----- \n",
      "51610 non-null  object\n",
      "dtypes: object(1)\n",
      "memory usage: 511.4+ KB\n"
     ]
    }
   ],
   "source": [
    "# Get info about the column (no need for print)\n",
    "df['YearsCodePro'].info()"
   ]
  },
  {
   "cell_type": "code",
   "execution_count": 31,
   "metadata": {},
   "outputs": [
    {
     "name": "stdout",
     "output_type": "stream",
     "text": [
      "object\n"
     ]
    }
   ],
   "source": [
    "# Check the data type of the column\n",
    "print(df['YearsCodePro'].dtypes)"
   ]
  },
  {
   "cell_type": "code",
   "execution_count": 32,
   "metadata": {},
   "outputs": [
    {
     "data": {
      "text/plain": [
       "np.int64(13827)"
      ]
     },
     "execution_count": 32,
     "metadata": {},
     "output_type": "execute_result"
    }
   ],
   "source": [
    "df['YearsCodePro'].isnull().sum()"
   ]
  },
  {
   "cell_type": "code",
   "execution_count": 33,
   "metadata": {},
   "outputs": [
    {
     "name": "stdout",
     "output_type": "stream",
     "text": [
      "16733\n",
      "float64\n",
      "count    48704.000000\n",
      "mean        10.739652\n",
      "std          8.935175\n",
      "min          1.000000\n",
      "25%          4.000000\n",
      "50%          8.000000\n",
      "75%         15.000000\n",
      "max         50.000000\n",
      "Name: YearsCodePro, dtype: float64\n"
     ]
    }
   ],
   "source": [
    "# Convert the 'YearsCodePro' column to numeric, coercing errors to NaN\n",
    "df['YearsCodePro'] = pd.to_numeric(df['YearsCodePro'], errors='coerce')\n",
    "\n",
    "# Check how many NaN values are present after conversion\n",
    "print(df['YearsCodePro'].isna().sum())  # Should still show 13827 NaNs\n",
    "\n",
    "# Option 1: Drop rows with NaN values\n",
    "df = df.dropna(subset=['YearsCodePro'])\n",
    "\n",
    "# Fill NaN values with the mean (or median) of the column\n",
    "mean_value = df['YearsCodePro'].median()\n",
    "df.loc[df['YearsCodePro'].isna(), 'YearsCodePro'] = mean_value\n",
    "\n",
    "# Now you can check the data type and describe the column again\n",
    "print(df['YearsCodePro'].dtypes)\n",
    "print(df['YearsCodePro'].describe())"
   ]
  },
  {
   "cell_type": "code",
   "execution_count": 34,
   "metadata": {},
   "outputs": [
    {
     "data": {
      "text/plain": [
       "11"
      ]
     },
     "execution_count": 34,
     "metadata": {},
     "output_type": "execute_result"
    }
   ],
   "source": [
    "# Calculate the bin_edge\n",
    "count, bin_edges = np.histogram(df['YearsCodePro'])\n",
    "bin_edges\n",
    "len(bin_edges)"
   ]
  },
  {
   "cell_type": "code",
   "execution_count": 35,
   "metadata": {},
   "outputs": [
    {
     "data": {
      "image/png": "[encoded data removed]",
      "text/plain": [
       "<Figure size 800x500 with 1 Axes>"
      ]
     },
     "metadata": {},
     "output_type": "display_data"
    }
   ],
   "source": [
    "e\n",
    "\n",
    "plt.show()"
   ]
  },
  {
   "cell_type": "markdown",
   "metadata": {},
   "source": [
    "### 2. Visualizing Relationships in Data\n"
   ]
  },
  {
   "cell_type": "markdown",
   "metadata": {},
   "source": [
    "**2.1 Histogram Comparison of `CompTotal` by `Age` Group**\n"
   ]
  },
  {
   "cell_type": "markdown",
   "metadata": {},
   "source": [
    "Objective: Use histograms to compare the distribution of CompTotal across different Age groups.\n"
   ]
  },
  {
   "cell_type": "code",
   "execution_count": 36,
   "metadata": {},
   "outputs": [
    {
     "name": "stdout",
     "output_type": "stream",
     "text": [
      "    CompTotal              Age\n",
      "1         NaN  35-44 years old\n",
      "2         NaN  45-54 years old\n",
      "6         NaN  35-44 years old\n",
      "9         NaN  35-44 years old\n",
      "11        NaN  45-54 years old\n"
     ]
    }
   ],
   "source": [
    "# Let's call out the CompTotal and the Age\n",
    "Comp_Age = df.loc[:, ['CompTotal', 'Age']]\n",
    "print(Comp_Age.head())"
   ]
  },
  {
   "cell_type": "code",
   "execution_count": 37,
   "metadata": {},
   "outputs": [
    {
     "data": {
      "text/plain": [
       "CompTotal    16051\n",
       "Age              0\n",
       "dtype: int64"
      ]
     },
     "execution_count": 37,
     "metadata": {},
     "output_type": "execute_result"
    }
   ],
   "source": [
    "Comp_Age.isnull().sum()"
   ]
  },
  {
   "cell_type": "code",
   "execution_count": 38,
   "metadata": {},
   "outputs": [
    {
     "data": {
      "text/plain": [
       "count    3.265300e+04\n",
       "mean     3.062506e+48\n",
       "std      5.533991e+50\n",
       "min      0.000000e+00\n",
       "25%      6.000000e+04\n",
       "50%      1.100000e+05\n",
       "75%      2.500000e+05\n",
       "max      1.000000e+53\n",
       "Name: CompTotal, dtype: float64"
      ]
     },
     "execution_count": 38,
     "metadata": {},
     "output_type": "execute_result"
    }
   ],
   "source": [
    "Comp_Age['CompTotal'].describe()"
   ]
  },
  {
   "cell_type": "code",
   "execution_count": 39,
   "metadata": {},
   "outputs": [
    {
     "data": {
      "text/plain": [
       "(48704, 2)"
      ]
     },
     "execution_count": 39,
     "metadata": {},
     "output_type": "execute_result"
    }
   ],
   "source": [
    "Comp_Age.shape"
   ]
  },
  {
   "cell_type": "code",
   "execution_count": 40,
   "metadata": {},
   "outputs": [
    {
     "name": "stdout",
     "output_type": "stream",
     "text": [
      "    CompTotal  CompTotal_log10\n",
      "1         NaN              NaN\n",
      "2         NaN              NaN\n",
      "6         NaN              NaN\n",
      "9         NaN              NaN\n",
      "11        NaN              NaN\n"
     ]
    }
   ],
   "source": [
    "# The data is in float type and skewed, so converting into the log10 might help\n",
    "# Perform log10 transformation with a small constant added\n",
    "Comp_Age['CompTotal_log10'] = np.log10(Comp_Age['CompTotal'] + 1)\n",
    "\n",
    "# Display the first few rows to check the transformation\n",
    "print(Comp_Age[['CompTotal', 'CompTotal_log10']].head())"
   ]
  },
  {
   "cell_type": "code",
   "execution_count": 41,
   "metadata": {},
   "outputs": [
    {
     "data": {
      "text/plain": [
       "CompTotal          16051\n",
       "Age                    0\n",
       "CompTotal_log10    16051\n",
       "dtype: int64"
      ]
     },
     "execution_count": 41,
     "metadata": {},
     "output_type": "execute_result"
    }
   ],
   "source": [
    "Comp_Age.isnull().sum()"
   ]
  },
  {
   "cell_type": "code",
   "execution_count": 42,
   "metadata": {},
   "outputs": [
    {
     "data": {
      "text/html": [
       "<div>\n",
       "<style scoped>\n",
       "    .dataframe tbody tr th:only-of-type {\n",
       "        vertical-align: middle;\n",
       "    }\n",
       "\n",
       "    .dataframe tbody tr th {\n",
       "        vertical-align: top;\n",
       "    }\n",
       "\n",
       "    .dataframe thead th {\n",
       "        text-align: right;\n",
       "    }\n",
       "</style>\n",
       "<table border=\"1\" class=\"dataframe\">\n",
       "  <thead>\n",
       "    <tr style=\"text-align: right;\">\n",
       "      <th></th>\n",
       "      <th>CompTotal</th>\n",
       "      <th>CompTotal_log10</th>\n",
       "    </tr>\n",
       "  </thead>\n",
       "  <tbody>\n",
       "    <tr>\n",
       "      <th>count</th>\n",
       "      <td>3.265300e+04</td>\n",
       "      <td>32653.000000</td>\n",
       "    </tr>\n",
       "    <tr>\n",
       "      <th>mean</th>\n",
       "      <td>3.062506e+48</td>\n",
       "      <td>5.170612</td>\n",
       "    </tr>\n",
       "    <tr>\n",
       "      <th>std</th>\n",
       "      <td>5.533991e+50</td>\n",
       "      <td>0.926398</td>\n",
       "    </tr>\n",
       "    <tr>\n",
       "      <th>min</th>\n",
       "      <td>0.000000e+00</td>\n",
       "      <td>0.000000</td>\n",
       "    </tr>\n",
       "    <tr>\n",
       "      <th>25%</th>\n",
       "      <td>6.000000e+04</td>\n",
       "      <td>4.778158</td>\n",
       "    </tr>\n",
       "    <tr>\n",
       "      <th>50%</th>\n",
       "      <td>1.100000e+05</td>\n",
       "      <td>5.041397</td>\n",
       "    </tr>\n",
       "    <tr>\n",
       "      <th>75%</th>\n",
       "      <td>2.500000e+05</td>\n",
       "      <td>5.397942</td>\n",
       "    </tr>\n",
       "    <tr>\n",
       "      <th>max</th>\n",
       "      <td>1.000000e+53</td>\n",
       "      <td>53.000000</td>\n",
       "    </tr>\n",
       "  </tbody>\n",
       "</table>\n",
       "</div>"
      ],
      "text/plain": [
       "          CompTotal  CompTotal_log10\n",
       "count  3.265300e+04     32653.000000\n",
       "mean   3.062506e+48         5.170612\n",
       "std    5.533991e+50         0.926398\n",
       "min    0.000000e+00         0.000000\n",
       "25%    6.000000e+04         4.778158\n",
       "50%    1.100000e+05         5.041397\n",
       "75%    2.500000e+05         5.397942\n",
       "max    1.000000e+53        53.000000"
      ]
     },
     "execution_count": 42,
     "metadata": {},
     "output_type": "execute_result"
    }
   ],
   "source": [
    "Comp_Age.describe()"
   ]
  },
  {
   "cell_type": "code",
   "execution_count": 43,
   "metadata": {},
   "outputs": [],
   "source": [
    "# The median is very close to the mean and the standard deviation improved after the log 10 transform\n",
    "# Replace the NaN with the mean\n",
    "mean_value_log = Comp_Age['CompTotal_log10'].mean()\n",
    "Comp_Age.loc[Comp_Age['CompTotal_log10'].isna(), 'CompTotal_log10'] = mean_value_log"
   ]
  },
  {
   "cell_type": "code",
   "execution_count": 44,
   "metadata": {},
   "outputs": [
    {
     "data": {
      "text/html": [
       "<div>\n",
       "<style scoped>\n",
       "    .dataframe tbody tr th:only-of-type {\n",
       "        vertical-align: middle;\n",
       "    }\n",
       "\n",
       "    .dataframe tbody tr th {\n",
       "        vertical-align: top;\n",
       "    }\n",
       "\n",
       "    .dataframe thead th {\n",
       "        text-align: right;\n",
       "    }\n",
       "</style>\n",
       "<table border=\"1\" class=\"dataframe\">\n",
       "  <thead>\n",
       "    <tr style=\"text-align: right;\">\n",
       "      <th></th>\n",
       "      <th>CompTotal</th>\n",
       "      <th>Age</th>\n",
       "      <th>CompTotal_log10</th>\n",
       "    </tr>\n",
       "  </thead>\n",
       "  <tbody>\n",
       "    <tr>\n",
       "      <th>1</th>\n",
       "      <td>NaN</td>\n",
       "      <td>35-44 years old</td>\n",
       "      <td>5.170612</td>\n",
       "    </tr>\n",
       "    <tr>\n",
       "      <th>2</th>\n",
       "      <td>NaN</td>\n",
       "      <td>45-54 years old</td>\n",
       "      <td>5.170612</td>\n",
       "    </tr>\n",
       "    <tr>\n",
       "      <th>6</th>\n",
       "      <td>NaN</td>\n",
       "      <td>35-44 years old</td>\n",
       "      <td>5.170612</td>\n",
       "    </tr>\n",
       "    <tr>\n",
       "      <th>9</th>\n",
       "      <td>NaN</td>\n",
       "      <td>35-44 years old</td>\n",
       "      <td>5.170612</td>\n",
       "    </tr>\n",
       "    <tr>\n",
       "      <th>11</th>\n",
       "      <td>NaN</td>\n",
       "      <td>45-54 years old</td>\n",
       "      <td>5.170612</td>\n",
       "    </tr>\n",
       "  </tbody>\n",
       "</table>\n",
       "</div>"
      ],
      "text/plain": [
       "    CompTotal              Age  CompTotal_log10\n",
       "1         NaN  35-44 years old         5.170612\n",
       "2         NaN  45-54 years old         5.170612\n",
       "6         NaN  35-44 years old         5.170612\n",
       "9         NaN  35-44 years old         5.170612\n",
       "11        NaN  45-54 years old         5.170612"
      ]
     },
     "execution_count": 44,
     "metadata": {},
     "output_type": "execute_result"
    }
   ],
   "source": [
    "Comp_Age.head()"
   ]
  },
  {
   "cell_type": "code",
   "execution_count": 45,
   "metadata": {},
   "outputs": [
    {
     "data": {
      "text/plain": [
       "Age\n",
       "25-34 years old       20174\n",
       "35-44 years old       13036\n",
       "18-24 years old        7173\n",
       "45-54 years old        5434\n",
       "55-64 years old        2130\n",
       "65 years or older       396\n",
       "Under 18 years old      247\n",
       "Prefer not to say       114\n",
       "Name: count, dtype: int64"
      ]
     },
     "execution_count": 45,
     "metadata": {},
     "output_type": "execute_result"
    }
   ],
   "source": [
    "Comp_Age['Age'].value_counts()"
   ]
  },
  {
   "cell_type": "code",
   "execution_count": 46,
   "metadata": {},
   "outputs": [
    {
     "data": {
      "image/png": "[encoded data removed]",
      "text/plain": [
       "<Figure size 1200x600 with 1 Axes>"
      ]
     },
     "metadata": {},
     "output_type": "display_data"
    }
   ],
   "source": [
    "# Create a figure for the histograms\n",
    "plt.figure(figsize=(12, 6))\n",
    "\n",
    "# Get unique age groups\n",
    "unique_ages = Comp_Age['Age'].unique()\n",
    "\n",
    "# Loop through each age group and plot the histogram\n",
    "for age in unique_ages:\n",
    "    plt.hist(Comp_Age['CompTotal_log10'][Comp_Age['Age'] == age], \n",
    "             bins=121, alpha=0.5, label=str(age), edgecolor='black')\n",
    "# Set x-axis limits to focus on the range from 0 to 10\n",
    "plt.xlim(0, 10)\n",
    "# Add titles and labels\n",
    "plt.title('Histogram of CompTotal_log10 by Age Group', fontsize=16)\n",
    "plt.xlabel('CompTotal_log10', fontsize=14)\n",
    "plt.ylabel('Frequency', fontsize=14)\n",
    "plt.legend(title='Age Groups')\n",
    "plt.grid(axis='y', alpha=0.75)\n",
    "\n",
    "# Show the plot\n",
    "plt.show()"
   ]
  },
  {
   "cell_type": "markdown",
   "metadata": {},
   "source": [
    "Objective: Use histograms to explore the distribution of `TimeSearching` (time spent searching for information) for respondents across different age groups.\n"
   ]
  },
  {
   "cell_type": "code",
   "execution_count": 47,
   "metadata": {},
   "outputs": [
    {
     "name": "stdout",
     "output_type": "stream",
     "text": [
      "                Age TimeSearching\n",
      "1   35-44 years old          None\n",
      "2   45-54 years old          None\n",
      "6   35-44 years old          None\n",
      "9   35-44 years old          None\n",
      "11  45-54 years old          None\n"
     ]
    }
   ],
   "source": [
    "# Let's call out the CompTotal and the Age\n",
    "Time_Age = df.loc[:, ['Age', 'TimeSearching']]\n",
    "print(Time_Age.head())"
   ]
  },
  {
   "cell_type": "code",
   "execution_count": 48,
   "metadata": {},
   "outputs": [
    {
     "data": {
      "text/html": [
       "<div>\n",
       "<style scoped>\n",
       "    .dataframe tbody tr th:only-of-type {\n",
       "        vertical-align: middle;\n",
       "    }\n",
       "\n",
       "    .dataframe tbody tr th {\n",
       "        vertical-align: top;\n",
       "    }\n",
       "\n",
       "    .dataframe thead th {\n",
       "        text-align: right;\n",
       "    }\n",
       "</style>\n",
       "<table border=\"1\" class=\"dataframe\">\n",
       "  <thead>\n",
       "    <tr style=\"text-align: right;\">\n",
       "      <th></th>\n",
       "      <th>Age</th>\n",
       "      <th>TimeSearching</th>\n",
       "    </tr>\n",
       "  </thead>\n",
       "  <tbody>\n",
       "    <tr>\n",
       "      <th>count</th>\n",
       "      <td>48704</td>\n",
       "      <td>27352</td>\n",
       "    </tr>\n",
       "    <tr>\n",
       "      <th>unique</th>\n",
       "      <td>8</td>\n",
       "      <td>5</td>\n",
       "    </tr>\n",
       "    <tr>\n",
       "      <th>top</th>\n",
       "      <td>25-34 years old</td>\n",
       "      <td>30-60 minutes a day</td>\n",
       "    </tr>\n",
       "    <tr>\n",
       "      <th>freq</th>\n",
       "      <td>20174</td>\n",
       "      <td>10396</td>\n",
       "    </tr>\n",
       "  </tbody>\n",
       "</table>\n",
       "</div>"
      ],
      "text/plain": [
       "                    Age        TimeSearching\n",
       "count             48704                27352\n",
       "unique                8                    5\n",
       "top     25-34 years old  30-60 minutes a day\n",
       "freq              20174                10396"
      ]
     },
     "execution_count": 48,
     "metadata": {},
     "output_type": "execute_result"
    }
   ],
   "source": [
    "Time_Age.describe()"
   ]
  },
  {
   "cell_type": "code",
   "execution_count": 49,
   "metadata": {},
   "outputs": [
    {
     "data": {
      "text/plain": [
       "Age                  0\n",
       "TimeSearching    21352\n",
       "dtype: int64"
      ]
     },
     "execution_count": 49,
     "metadata": {},
     "output_type": "execute_result"
    }
   ],
   "source": [
    "Time_Age.isnull().sum()"
   ]
  },
  {
   "cell_type": "code",
   "execution_count": 50,
   "metadata": {},
   "outputs": [
    {
     "data": {
      "text/plain": [
       "TimeSearching\n",
       "30-60 minutes a day           10396\n",
       "15-30 minutes a day            7507\n",
       "60-120 minutes a day           4919\n",
       "Less than 15 minutes a day     2537\n",
       "Over 120 minutes a day         1993\n",
       "Name: count, dtype: int64"
      ]
     },
     "execution_count": 50,
     "metadata": {},
     "output_type": "execute_result"
    }
   ],
   "source": [
    "Time_Age['TimeSearching'].value_counts()"
   ]
  },
  {
   "cell_type": "code",
   "execution_count": 51,
   "metadata": {},
   "outputs": [],
   "source": [
    "# Calculate the mode\n",
    "mode_value = Time_Age['TimeSearching'].mode()[0]\n",
    "\n",
    "# Replace NaN values with the mode\n",
    "Time_Age.loc[Time_Age['TimeSearching'].isna(), 'TimeSearching'] = mode_value"
   ]
  },
  {
   "cell_type": "code",
   "execution_count": 52,
   "metadata": {},
   "outputs": [
    {
     "name": "stdout",
     "output_type": "stream",
     "text": [
      "                Age        TimeSearching  AverageTime\n",
      "1   35-44 years old  30-60 minutes a day         45.0\n",
      "2   45-54 years old  30-60 minutes a day         45.0\n",
      "6   35-44 years old  30-60 minutes a day         45.0\n",
      "9   35-44 years old  30-60 minutes a day         45.0\n",
      "11  45-54 years old  30-60 minutes a day         45.0\n"
     ]
    }
   ],
   "source": [
    "# Create a mapping for average time in minutes\n",
    "time_mapping = {\n",
    "    '30-60 minutes a day': (30 + 60) / 2,  # Average of 30 and 60\n",
    "    '15-30 minutes a day': (15 + 30) / 2,  # Average of 15 and 30\n",
    "    '60-120 minutes a day': (60 + 120) / 2,  # Average of 60 and 120\n",
    "    'Less than 15 minutes a day': 7.5,  # Average of 0 and 15\n",
    "    'Over 120 minutes a day': 150,  # Assuming an average of 150 minutes\n",
    "}\n",
    "\n",
    "# Apply the mapping to replace TimeSearching with AverageTime\n",
    "Time_Age['AverageTime'] = Time_Age['TimeSearching'].map(time_mapping)\n",
    "\n",
    "# Check the updated DataFrame\n",
    "print(Time_Age.head())"
   ]
  },
  {
   "cell_type": "code",
   "execution_count": 53,
   "metadata": {},
   "outputs": [],
   "source": [
    "Time_Age_his = Time_Age.loc[:, ['Age', 'AverageTime']]"
   ]
  },
  {
   "cell_type": "code",
   "execution_count": 54,
   "metadata": {},
   "outputs": [
    {
     "data": {
      "text/plain": [
       "11"
      ]
     },
     "execution_count": 54,
     "metadata": {},
     "output_type": "execute_result"
    }
   ],
   "source": [
    "# Calculate the bin_edge\n",
    "count, bin_edges = np.histogram(Time_Age_his['AverageTime'])\n",
    "bin_edges\n",
    "len(bin_edges)"
   ]
  },
  {
   "cell_type": "code",
   "execution_count": 71,
   "metadata": {},
   "outputs": [
    {
     "data": {
      "image/png": "[encoded data removed]",
      "text/plain": [
       "<Figure size 1200x600 with 1 Axes>"
      ]
     },
     "metadata": {},
     "output_type": "display_data"
    }
   ],
   "source": [
    "# Create a figure for the histograms\n",
    "plt.figure(figsize=(12, 6))\n",
    "\n",
    "# Get unique age groups\n",
    "unique_ages = Time_Age_his['Age'].unique()\n",
    "\n",
    "# Loop through each age group and plot the histogram\n",
    "for age in unique_ages:\n",
    "    plt.hist(Time_Age_his['AverageTime'][Time_Age_his['Age'] == age], \n",
    "             bins=11, alpha=0.5, label=str(age), edgecolor='black')\n",
    "# Set x-axis limits to focus on the range from 0 to 10\n",
    "#plt.xlim(0, 10)\n",
    "# Add titles and labels\n",
    "plt.title('Histogram of Time Searching by Age Group', fontsize=16)\n",
    "plt.xlabel('Time/minutes', fontsize=14)\n",
    "plt.ylabel('Frequency', fontsize=14)\n",
    "plt.legend(title='Age Groups')\n",
    "plt.grid(axis='y', alpha=0.75)\n",
    "\n",
    "# Show the plot\n",
    "plt.show()"
   ]
  },
  {
   "cell_type": "markdown",
   "metadata": {},
   "source": [
    "### 3. Visualizing the Composition of Data\n"
   ]
  },
  {
   "cell_type": "markdown",
   "metadata": {},
   "source": [
    "**3.1 Histogram of Most Desired Databases (`DatabaseWantToWorkWith`)**\n"
   ]
  },
  {
   "cell_type": "markdown",
   "metadata": {},
   "source": [
    "Objective: Visualize the most desired databases for future learning using a histogram of the top 5 databases.\n"
   ]
  },
  {
   "cell_type": "code",
   "execution_count": 56,
   "metadata": {},
   "outputs": [
    {
     "name": "stdout",
     "output_type": "stream",
     "text": [
      "DatabaseWantToWorkWith\n",
      "PostgreSQL              3184\n",
      "Microsoft SQL Server    1300\n",
      "PostgreSQL;SQLite       1275\n",
      "SQLite                  1101\n",
      "MySQL                    784\n",
      "Name: count, dtype: int64\n"
     ]
    }
   ],
   "source": [
    "## Write your code here\n",
    "db_fav = df['DatabaseWantToWorkWith'].value_counts()\n",
    "db_fav_top5 = db_fav.head(5)\n",
    "print(db_fav_top5)"
   ]
  },
  {
   "cell_type": "code",
   "execution_count": 57,
   "metadata": {},
   "outputs": [
    {
     "data": {
      "text/plain": [
       "np.int64(0)"
      ]
     },
     "execution_count": 57,
     "metadata": {},
     "output_type": "execute_result"
    }
   ],
   "source": [
    "db_fav_top5.isnull().sum()"
   ]
  },
  {
   "cell_type": "code",
   "execution_count": 58,
   "metadata": {},
   "outputs": [
    {
     "name": "stdout",
     "output_type": "stream",
     "text": [
      "DatabaseWantToWorkWith\n",
      "PostgreSQL              3184\n",
      "Microsoft SQL Server    1300\n",
      "PostgreSQL;SQLite       1275\n",
      "SQLite                  1101\n",
      "MySQL                    784\n",
      "Name: count, dtype: int64\n"
     ]
    },
    {
     "data": {
      "image/png": "[encoded data removed]",
      "text/plain": [
       "<Figure size 1000x600 with 1 Axes>"
      ]
     },
     "metadata": {},
     "output_type": "display_data"
    }
   ],
   "source": [
    "# Count occurrences of each database\n",
    "db_fav = df['DatabaseWantToWorkWith'].value_counts()\n",
    "db_fav_top5 = db_fav.head(5)\n",
    "\n",
    "# Print the top 5 databases\n",
    "print(db_fav_top5)\n",
    "\n",
    "# Create an array of categories repeated according to their counts\n",
    "data = np.repeat(db_fav_top5.index, db_fav_top5.values)\n",
    "\n",
    "# Create the histogram\n",
    "plt.figure(figsize=(10, 6))\n",
    "plt.hist(data, bins=len(db_fav_top5.index), alpha=0.7, color='#3498DB', edgecolor='black')\n",
    "\n",
    "# Add titles and labels\n",
    "plt.title('Histogram of Top 5 Databases Distribution', fontsize=16)\n",
    "plt.xlabel('Databases', fontsize=14)\n",
    "plt.ylabel('Counts', fontsize=14)\n",
    "plt.xticks(rotation=45)  # Rotate x-axis labels for better readability\n",
    "plt.grid(axis='y', alpha=0.75)\n",
    "\n",
    "# Show the plot\n",
    "plt.show()"
   ]
  },
  {
   "cell_type": "markdown",
   "metadata": {},
   "source": [
    "**Comments:** \n",
    "- It is technically a bar chart, and I do not know why the question asked for the histogram. "
   ]
  },
  {
   "cell_type": "markdown",
   "metadata": {},
   "source": [
    "**3.2 Histogram of Preferred Work Locations (`RemoteWork`)**\n"
   ]
  },
  {
   "cell_type": "markdown",
   "metadata": {},
   "source": [
    "Objective: Use a histogram to explore the distribution of preferred work arrangements (`remote work`).\n"
   ]
  },
  {
   "cell_type": "code",
   "execution_count": 59,
   "metadata": {},
   "outputs": [
    {
     "name": "stdout",
     "output_type": "stream",
     "text": [
      "RemoteWork\n",
      "Hybrid (some remote, some in-person)    23015\n",
      "Remote                                  20831\n",
      "In-person                               10960\n",
      "Name: count, dtype: int64\n"
     ]
    }
   ],
   "source": [
    "#Connect to database\n",
    "conn = sqlite3.connect('survey-data.sqlite')\n",
    "QUERY = \"SELECT * FROM main\"\n",
    "df = pd.read_sql_query(QUERY, conn)\n",
    "\n",
    "# Count occurrences of each work type\n",
    "remote_work= df['RemoteWork'].value_counts()\n",
    "print(remote_work)"
   ]
  },
  {
   "cell_type": "code",
   "execution_count": 60,
   "metadata": {},
   "outputs": [
    {
     "data": {
      "image/png": "[encoded data removed]",
      "text/plain": [
       "<Figure size 1000x600 with 1 Axes>"
      ]
     },
     "metadata": {},
     "output_type": "display_data"
    }
   ],
   "source": [
    "# Create an array of categories repeated according to their counts\n",
    "data = np.repeat(remote_work.index, remote_work.values)\n",
    "\n",
    "# Create the histogram\n",
    "plt.figure(figsize=(10, 6))\n",
    "plt.hist(data, bins=len(remote_work.index), alpha=0.7, color='#3498DB', edgecolor='black')\n",
    "\n",
    "# Add titles and labels\n",
    "plt.title('Histogram of Work modes Distribution', fontsize=16)\n",
    "plt.xlabel('Work modes', fontsize=14)\n",
    "plt.ylabel('Counts', fontsize=14)\n",
    "plt.xticks(rotation=45)  # Rotate x-axis labels for better readability\n",
    "plt.grid(axis='y', alpha=0.75)\n",
    "\n",
    "# Show the plot\n",
    "plt.show()"
   ]
  },
  {
   "cell_type": "markdown",
   "metadata": {},
   "source": [
    "### 4. Visualizing Comparison of Data\n"
   ]
  },
  {
   "cell_type": "markdown",
   "metadata": {},
   "source": [
    "**4.1 Histogram of Median CompTotal for Ages 45 to 60**\n"
   ]
  },
  {
   "cell_type": "markdown",
   "metadata": {},
   "source": [
    "Objective: Plot the histogram for `CompTotal` within the age group 45 to 60 to analyze compensation distribution among mid-career respondents.\n"
   ]
  },
  {
   "cell_type": "code",
   "execution_count": 61,
   "metadata": {},
   "outputs": [
    {
     "data": {
      "text/html": [
       "<div>\n",
       "<style scoped>\n",
       "    .dataframe tbody tr th:only-of-type {\n",
       "        vertical-align: middle;\n",
       "    }\n",
       "\n",
       "    .dataframe tbody tr th {\n",
       "        vertical-align: top;\n",
       "    }\n",
       "\n",
       "    .dataframe thead th {\n",
       "        text-align: right;\n",
       "    }\n",
       "</style>\n",
       "<table border=\"1\" class=\"dataframe\">\n",
       "  <thead>\n",
       "    <tr style=\"text-align: right;\">\n",
       "      <th></th>\n",
       "      <th>CompTotal</th>\n",
       "      <th>Age</th>\n",
       "      <th>CompTotal_log10</th>\n",
       "    </tr>\n",
       "  </thead>\n",
       "  <tbody>\n",
       "    <tr>\n",
       "      <th>1</th>\n",
       "      <td>NaN</td>\n",
       "      <td>35-44 years old</td>\n",
       "      <td>5.170612</td>\n",
       "    </tr>\n",
       "    <tr>\n",
       "      <th>2</th>\n",
       "      <td>NaN</td>\n",
       "      <td>45-54 years old</td>\n",
       "      <td>5.170612</td>\n",
       "    </tr>\n",
       "    <tr>\n",
       "      <th>6</th>\n",
       "      <td>NaN</td>\n",
       "      <td>35-44 years old</td>\n",
       "      <td>5.170612</td>\n",
       "    </tr>\n",
       "    <tr>\n",
       "      <th>9</th>\n",
       "      <td>NaN</td>\n",
       "      <td>35-44 years old</td>\n",
       "      <td>5.170612</td>\n",
       "    </tr>\n",
       "    <tr>\n",
       "      <th>11</th>\n",
       "      <td>NaN</td>\n",
       "      <td>45-54 years old</td>\n",
       "      <td>5.170612</td>\n",
       "    </tr>\n",
       "    <tr>\n",
       "      <th>12</th>\n",
       "      <td>NaN</td>\n",
       "      <td>35-44 years old</td>\n",
       "      <td>5.170612</td>\n",
       "    </tr>\n",
       "    <tr>\n",
       "      <th>14</th>\n",
       "      <td>NaN</td>\n",
       "      <td>25-34 years old</td>\n",
       "      <td>5.170612</td>\n",
       "    </tr>\n",
       "    <tr>\n",
       "      <th>15</th>\n",
       "      <td>NaN</td>\n",
       "      <td>45-54 years old</td>\n",
       "      <td>5.170612</td>\n",
       "    </tr>\n",
       "    <tr>\n",
       "      <th>17</th>\n",
       "      <td>NaN</td>\n",
       "      <td>18-24 years old</td>\n",
       "      <td>5.170612</td>\n",
       "    </tr>\n",
       "    <tr>\n",
       "      <th>18</th>\n",
       "      <td>NaN</td>\n",
       "      <td>25-34 years old</td>\n",
       "      <td>5.170612</td>\n",
       "    </tr>\n",
       "    <tr>\n",
       "      <th>19</th>\n",
       "      <td>NaN</td>\n",
       "      <td>35-44 years old</td>\n",
       "      <td>5.170612</td>\n",
       "    </tr>\n",
       "    <tr>\n",
       "      <th>21</th>\n",
       "      <td>NaN</td>\n",
       "      <td>35-44 years old</td>\n",
       "      <td>5.170612</td>\n",
       "    </tr>\n",
       "    <tr>\n",
       "      <th>22</th>\n",
       "      <td>NaN</td>\n",
       "      <td>45-54 years old</td>\n",
       "      <td>5.170612</td>\n",
       "    </tr>\n",
       "    <tr>\n",
       "      <th>23</th>\n",
       "      <td>NaN</td>\n",
       "      <td>55-64 years old</td>\n",
       "      <td>5.170612</td>\n",
       "    </tr>\n",
       "    <tr>\n",
       "      <th>24</th>\n",
       "      <td>NaN</td>\n",
       "      <td>35-44 years old</td>\n",
       "      <td>5.170612</td>\n",
       "    </tr>\n",
       "    <tr>\n",
       "      <th>25</th>\n",
       "      <td>NaN</td>\n",
       "      <td>45-54 years old</td>\n",
       "      <td>5.170612</td>\n",
       "    </tr>\n",
       "    <tr>\n",
       "      <th>26</th>\n",
       "      <td>NaN</td>\n",
       "      <td>35-44 years old</td>\n",
       "      <td>5.170612</td>\n",
       "    </tr>\n",
       "    <tr>\n",
       "      <th>27</th>\n",
       "      <td>NaN</td>\n",
       "      <td>25-34 years old</td>\n",
       "      <td>5.170612</td>\n",
       "    </tr>\n",
       "    <tr>\n",
       "      <th>28</th>\n",
       "      <td>NaN</td>\n",
       "      <td>25-34 years old</td>\n",
       "      <td>5.170612</td>\n",
       "    </tr>\n",
       "    <tr>\n",
       "      <th>29</th>\n",
       "      <td>NaN</td>\n",
       "      <td>25-34 years old</td>\n",
       "      <td>5.170612</td>\n",
       "    </tr>\n",
       "  </tbody>\n",
       "</table>\n",
       "</div>"
      ],
      "text/plain": [
       "    CompTotal              Age  CompTotal_log10\n",
       "1         NaN  35-44 years old         5.170612\n",
       "2         NaN  45-54 years old         5.170612\n",
       "6         NaN  35-44 years old         5.170612\n",
       "9         NaN  35-44 years old         5.170612\n",
       "11        NaN  45-54 years old         5.170612\n",
       "12        NaN  35-44 years old         5.170612\n",
       "14        NaN  25-34 years old         5.170612\n",
       "15        NaN  45-54 years old         5.170612\n",
       "17        NaN  18-24 years old         5.170612\n",
       "18        NaN  25-34 years old         5.170612\n",
       "19        NaN  35-44 years old         5.170612\n",
       "21        NaN  35-44 years old         5.170612\n",
       "22        NaN  45-54 years old         5.170612\n",
       "23        NaN  55-64 years old         5.170612\n",
       "24        NaN  35-44 years old         5.170612\n",
       "25        NaN  45-54 years old         5.170612\n",
       "26        NaN  35-44 years old         5.170612\n",
       "27        NaN  25-34 years old         5.170612\n",
       "28        NaN  25-34 years old         5.170612\n",
       "29        NaN  25-34 years old         5.170612"
      ]
     },
     "execution_count": 61,
     "metadata": {},
     "output_type": "execute_result"
    }
   ],
   "source": [
    "Comp_Age.head(20)"
   ]
  },
  {
   "cell_type": "code",
   "execution_count": 63,
   "metadata": {},
   "outputs": [
    {
     "name": "stdout",
     "output_type": "stream",
     "text": [
      "float64\n"
     ]
    }
   ],
   "source": [
    "# Transform the values in Age into numerical\n",
    "# Define a function to convert age categories to numerical values\n",
    "def convert_age_to_numeric(age):\n",
    "    if age == 'Under 18 years old':\n",
    "        return 17\n",
    "    elif age == '18-24 years old':\n",
    "        return (18 + 24) / 2\n",
    "    elif age == '25-34 years old':\n",
    "        return (25 + 34) / 2\n",
    "    elif age == '35-44 years old':\n",
    "        return (35 + 44) / 2\n",
    "    elif age == '45-54 years old':\n",
    "        return (45 + 54) / 2\n",
    "    elif age == '55-64 years old':\n",
    "        return (55 + 64) / 2\n",
    "    elif age == '65 years or older':\n",
    "        return 70\n",
    "    elif age == \"Prefer not to say\":\n",
    "        return 29.5\n",
    "    else:\n",
    "        return None\n",
    "\n",
    "# Apply the function to the Age column to create Age_numeric\n",
    "Comp_Age['Age_numerical'] = Comp_Age['Age'].apply(convert_age_to_numeric)\n",
    "print(Comp_Age['Age_numerical'].dtypes)"
   ]
  },
  {
   "cell_type": "code",
   "execution_count": 64,
   "metadata": {},
   "outputs": [
    {
     "data": {
      "text/html": [
       "<div>\n",
       "<style scoped>\n",
       "    .dataframe tbody tr th:only-of-type {\n",
       "        vertical-align: middle;\n",
       "    }\n",
       "\n",
       "    .dataframe tbody tr th {\n",
       "        vertical-align: top;\n",
       "    }\n",
       "\n",
       "    .dataframe thead th {\n",
       "        text-align: right;\n",
       "    }\n",
       "</style>\n",
       "<table border=\"1\" class=\"dataframe\">\n",
       "  <thead>\n",
       "    <tr style=\"text-align: right;\">\n",
       "      <th></th>\n",
       "      <th>CompTotal</th>\n",
       "      <th>Age</th>\n",
       "      <th>CompTotal_log10</th>\n",
       "      <th>Age_numerical</th>\n",
       "    </tr>\n",
       "  </thead>\n",
       "  <tbody>\n",
       "    <tr>\n",
       "      <th>1</th>\n",
       "      <td>NaN</td>\n",
       "      <td>35-44 years old</td>\n",
       "      <td>5.170612</td>\n",
       "      <td>39.5</td>\n",
       "    </tr>\n",
       "    <tr>\n",
       "      <th>2</th>\n",
       "      <td>NaN</td>\n",
       "      <td>45-54 years old</td>\n",
       "      <td>5.170612</td>\n",
       "      <td>49.5</td>\n",
       "    </tr>\n",
       "    <tr>\n",
       "      <th>6</th>\n",
       "      <td>NaN</td>\n",
       "      <td>35-44 years old</td>\n",
       "      <td>5.170612</td>\n",
       "      <td>39.5</td>\n",
       "    </tr>\n",
       "    <tr>\n",
       "      <th>9</th>\n",
       "      <td>NaN</td>\n",
       "      <td>35-44 years old</td>\n",
       "      <td>5.170612</td>\n",
       "      <td>39.5</td>\n",
       "    </tr>\n",
       "    <tr>\n",
       "      <th>11</th>\n",
       "      <td>NaN</td>\n",
       "      <td>45-54 years old</td>\n",
       "      <td>5.170612</td>\n",
       "      <td>49.5</td>\n",
       "    </tr>\n",
       "    <tr>\n",
       "      <th>12</th>\n",
       "      <td>NaN</td>\n",
       "      <td>35-44 years old</td>\n",
       "      <td>5.170612</td>\n",
       "      <td>39.5</td>\n",
       "    </tr>\n",
       "    <tr>\n",
       "      <th>14</th>\n",
       "      <td>NaN</td>\n",
       "      <td>25-34 years old</td>\n",
       "      <td>5.170612</td>\n",
       "      <td>29.5</td>\n",
       "    </tr>\n",
       "    <tr>\n",
       "      <th>15</th>\n",
       "      <td>NaN</td>\n",
       "      <td>45-54 years old</td>\n",
       "      <td>5.170612</td>\n",
       "      <td>49.5</td>\n",
       "    </tr>\n",
       "    <tr>\n",
       "      <th>17</th>\n",
       "      <td>NaN</td>\n",
       "      <td>18-24 years old</td>\n",
       "      <td>5.170612</td>\n",
       "      <td>21.0</td>\n",
       "    </tr>\n",
       "    <tr>\n",
       "      <th>18</th>\n",
       "      <td>NaN</td>\n",
       "      <td>25-34 years old</td>\n",
       "      <td>5.170612</td>\n",
       "      <td>29.5</td>\n",
       "    </tr>\n",
       "    <tr>\n",
       "      <th>19</th>\n",
       "      <td>NaN</td>\n",
       "      <td>35-44 years old</td>\n",
       "      <td>5.170612</td>\n",
       "      <td>39.5</td>\n",
       "    </tr>\n",
       "    <tr>\n",
       "      <th>21</th>\n",
       "      <td>NaN</td>\n",
       "      <td>35-44 years old</td>\n",
       "      <td>5.170612</td>\n",
       "      <td>39.5</td>\n",
       "    </tr>\n",
       "    <tr>\n",
       "      <th>22</th>\n",
       "      <td>NaN</td>\n",
       "      <td>45-54 years old</td>\n",
       "      <td>5.170612</td>\n",
       "      <td>49.5</td>\n",
       "    </tr>\n",
       "    <tr>\n",
       "      <th>23</th>\n",
       "      <td>NaN</td>\n",
       "      <td>55-64 years old</td>\n",
       "      <td>5.170612</td>\n",
       "      <td>59.5</td>\n",
       "    </tr>\n",
       "    <tr>\n",
       "      <th>24</th>\n",
       "      <td>NaN</td>\n",
       "      <td>35-44 years old</td>\n",
       "      <td>5.170612</td>\n",
       "      <td>39.5</td>\n",
       "    </tr>\n",
       "    <tr>\n",
       "      <th>25</th>\n",
       "      <td>NaN</td>\n",
       "      <td>45-54 years old</td>\n",
       "      <td>5.170612</td>\n",
       "      <td>49.5</td>\n",
       "    </tr>\n",
       "    <tr>\n",
       "      <th>26</th>\n",
       "      <td>NaN</td>\n",
       "      <td>35-44 years old</td>\n",
       "      <td>5.170612</td>\n",
       "      <td>39.5</td>\n",
       "    </tr>\n",
       "    <tr>\n",
       "      <th>27</th>\n",
       "      <td>NaN</td>\n",
       "      <td>25-34 years old</td>\n",
       "      <td>5.170612</td>\n",
       "      <td>29.5</td>\n",
       "    </tr>\n",
       "    <tr>\n",
       "      <th>28</th>\n",
       "      <td>NaN</td>\n",
       "      <td>25-34 years old</td>\n",
       "      <td>5.170612</td>\n",
       "      <td>29.5</td>\n",
       "    </tr>\n",
       "    <tr>\n",
       "      <th>29</th>\n",
       "      <td>NaN</td>\n",
       "      <td>25-34 years old</td>\n",
       "      <td>5.170612</td>\n",
       "      <td>29.5</td>\n",
       "    </tr>\n",
       "  </tbody>\n",
       "</table>\n",
       "</div>"
      ],
      "text/plain": [
       "    CompTotal              Age  CompTotal_log10  Age_numerical\n",
       "1         NaN  35-44 years old         5.170612           39.5\n",
       "2         NaN  45-54 years old         5.170612           49.5\n",
       "6         NaN  35-44 years old         5.170612           39.5\n",
       "9         NaN  35-44 years old         5.170612           39.5\n",
       "11        NaN  45-54 years old         5.170612           49.5\n",
       "12        NaN  35-44 years old         5.170612           39.5\n",
       "14        NaN  25-34 years old         5.170612           29.5\n",
       "15        NaN  45-54 years old         5.170612           49.5\n",
       "17        NaN  18-24 years old         5.170612           21.0\n",
       "18        NaN  25-34 years old         5.170612           29.5\n",
       "19        NaN  35-44 years old         5.170612           39.5\n",
       "21        NaN  35-44 years old         5.170612           39.5\n",
       "22        NaN  45-54 years old         5.170612           49.5\n",
       "23        NaN  55-64 years old         5.170612           59.5\n",
       "24        NaN  35-44 years old         5.170612           39.5\n",
       "25        NaN  45-54 years old         5.170612           49.5\n",
       "26        NaN  35-44 years old         5.170612           39.5\n",
       "27        NaN  25-34 years old         5.170612           29.5\n",
       "28        NaN  25-34 years old         5.170612           29.5\n",
       "29        NaN  25-34 years old         5.170612           29.5"
      ]
     },
     "execution_count": 64,
     "metadata": {},
     "output_type": "execute_result"
    }
   ],
   "source": [
    "Comp_Age.head(20)"
   ]
  },
  {
   "cell_type": "code",
   "execution_count": 65,
   "metadata": {},
   "outputs": [
    {
     "data": {
      "text/plain": [
       "CompTotal          20\n",
       "Age                 0\n",
       "CompTotal_log10     0\n",
       "Age_numerical       0\n",
       "dtype: int64"
      ]
     },
     "execution_count": 65,
     "metadata": {},
     "output_type": "execute_result"
    }
   ],
   "source": [
    "Comp_Age.head(20).isnull().sum()"
   ]
  },
  {
   "cell_type": "code",
   "execution_count": 66,
   "metadata": {},
   "outputs": [
    {
     "name": "stdout",
     "output_type": "stream",
     "text": [
      "    CompTotal              Age  CompTotal_log10  Age_numerical\n",
      "2         NaN  45-54 years old         5.170612           49.5\n",
      "11        NaN  45-54 years old         5.170612           49.5\n",
      "15        NaN  45-54 years old         5.170612           49.5\n",
      "22        NaN  45-54 years old         5.170612           49.5\n",
      "23        NaN  55-64 years old         5.170612           59.5\n"
     ]
    }
   ],
   "source": [
    "# Filter the DataFrame for ages between 45 and 60\n",
    "filtered_data = Comp_Age[(Comp_Age['Age_numerical'] >= 45) & (Comp_Age['Age_numerical'] <= 60)]\n",
    "\n",
    "# Display the filtered DataFrame\n",
    "print(filtered_data.head())"
   ]
  },
  {
   "cell_type": "code",
   "execution_count": 74,
   "metadata": {},
   "outputs": [
    {
     "data": {
      "text/plain": [
       "11"
      ]
     },
     "execution_count": 74,
     "metadata": {},
     "output_type": "execute_result"
    }
   ],
   "source": [
    "# Count the bin_edges\n",
    "count, bin_edges = np.histogram(filtered_data['CompTotal_log10'])\n",
    "bin_edges\n",
    "len(bin_edges)"
   ]
  },
  {
   "cell_type": "code",
   "execution_count": 83,
   "metadata": {},
   "outputs": [
    {
     "data": {
      "image/png": "[encoded data removed]",
      "text/plain": [
       "<Figure size 800x500 with 1 Axes>"
      ]
     },
     "metadata": {},
     "output_type": "display_data"
    }
   ],
   "source": [
    "# Calculate the median for the entire age range from 45 to 65\n",
    "median_45_65 = filtered_data[filtered_data['Age_numerical'].between(45, 65)]['CompTotal_log10'].median()\n",
    "\n",
    "# Plotting the histogram\n",
    "filtered_data['CompTotal_log10'].plot(kind='hist', figsize=(8, 5), bins=11)\n",
    "plt.xlim(0, 10)\n",
    "plt.title('Histogram of Compensation (log scale) for age 45-60')\n",
    "plt.ylabel('Frequency')\n",
    "plt.xlabel('CompTotal(log10)')\n",
    "\n",
    "# Annotate the median for the age range 45-65\n",
    "plt.axvline(median_45_65, color='White', linestyle='dashed', linewidth=2)\n",
    "plt.text(median_45_65, 0, f'Median 45-65: {median_45_65:.2f}', color='white', ha='right', va='bottom')\n",
    "\n",
    "plt.show()"
   ]
  },
  {
   "cell_type": "markdown",
   "metadata": {},
   "source": [
    "**4.2 Histogram of Job Satisfaction (`JobSat`) by YearsCodePro**\n"
   ]
  },
  {
   "cell_type": "markdown",
   "metadata": {},
   "source": [
    "Objective: Plot the histogram for `JobSat` scores based on respondents' years of professional coding experience.\n"
   ]
  },
  {
   "cell_type": "code",
   "execution_count": 92,
   "metadata": {},
   "outputs": [
    {
     "name": "stdout",
     "output_type": "stream",
     "text": [
      "   JobSat YearsCodePro\n",
      "0     NaN         None\n",
      "1     NaN           17\n",
      "2     NaN           27\n",
      "3     NaN         None\n",
      "4     NaN         None\n"
     ]
    }
   ],
   "source": [
    "## Write your code here\n",
    "# Connect and select table\n",
    "conn = sqlite3.connect('survey-data.sqlite')\n",
    "QUERY = \"SELECT * FROM main\"\n",
    "df = pd.read_sql_query(QUERY, conn)\n",
    "Sat_Exp = df.loc[:, ['JobSat', 'YearsCodePro']]\n",
    "print(Sat_Exp.head())"
   ]
  },
  {
   "cell_type": "code",
   "execution_count": 93,
   "metadata": {},
   "outputs": [
    {
     "data": {
      "text/plain": [
       "JobSat          float64\n",
       "YearsCodePro     object\n",
       "dtype: object"
      ]
     },
     "execution_count": 93,
     "metadata": {},
     "output_type": "execute_result"
    }
   ],
   "source": [
    "Sat_Exp.dtypes"
   ]
  },
  {
   "cell_type": "code",
   "execution_count": 94,
   "metadata": {},
   "outputs": [
    {
     "data": {
      "text/plain": [
       "JobSat          36311\n",
       "YearsCodePro    13827\n",
       "dtype: int64"
      ]
     },
     "execution_count": 94,
     "metadata": {},
     "output_type": "execute_result"
    }
   ],
   "source": [
    "Sat_Exp.isnull().sum()"
   ]
  },
  {
   "cell_type": "code",
   "execution_count": 96,
   "metadata": {},
   "outputs": [
    {
     "data": {
      "text/plain": [
       "JobSat          23254\n",
       "YearsCodePro        0\n",
       "dtype: int64"
      ]
     },
     "execution_count": 96,
     "metadata": {},
     "output_type": "execute_result"
    }
   ],
   "source": [
    "# Drop rows with NaN values\n",
    "Sat_Exp = Sat_Exp.dropna(subset=['YearsCodePro'])\n",
    "Sat_Exp.isnull().sum()"
   ]
  },
  {
   "cell_type": "code",
   "execution_count": 97,
   "metadata": {},
   "outputs": [
    {
     "data": {
      "text/plain": [
       "JobSat\n",
       "8.0     7325\n",
       "7.0     6243\n",
       "6.0     3651\n",
       "9.0     3557\n",
       "10.0    2196\n",
       "5.0     1869\n",
       "3.0     1141\n",
       "4.0     1097\n",
       "2.0      736\n",
       "0.0      284\n",
       "1.0      257\n",
       "Name: count, dtype: int64"
      ]
     },
     "execution_count": 97,
     "metadata": {},
     "output_type": "execute_result"
    }
   ],
   "source": [
    "Sat_Exp['JobSat'].value_counts()"
   ]
  },
  {
   "cell_type": "code",
   "execution_count": 98,
   "metadata": {},
   "outputs": [
    {
     "data": {
      "text/plain": [
       "count    28356.000000\n",
       "mean         6.949676\n",
       "std          2.074857\n",
       "min          0.000000\n",
       "25%          6.000000\n",
       "50%          7.000000\n",
       "75%          8.000000\n",
       "max         10.000000\n",
       "Name: JobSat, dtype: float64"
      ]
     },
     "execution_count": 98,
     "metadata": {},
     "output_type": "execute_result"
    }
   ],
   "source": [
    "Sat_Exp['JobSat'].describe()"
   ]
  },
  {
   "cell_type": "code",
   "execution_count": 100,
   "metadata": {},
   "outputs": [
    {
     "data": {
      "text/plain": [
       "JobSat          23254\n",
       "YearsCodePro        0\n",
       "dtype: int64"
      ]
     },
     "execution_count": 100,
     "metadata": {},
     "output_type": "execute_result"
    }
   ],
   "source": [
    "Sat_Exp.isnull().sum()"
   ]
  },
  {
   "cell_type": "code",
   "execution_count": 101,
   "metadata": {},
   "outputs": [
    {
     "name": "stdout",
     "output_type": "stream",
     "text": [
      "Missing values in JobSat after filling: 0\n"
     ]
    }
   ],
   "source": [
    "# Calculate the mode of JobSat\n",
    "median_jobsat = Sat_Exp['JobSat'].mode()[0]  # Select the first mode if there are multiple\n",
    "\n",
    "# Fill NaN values in JobSat with the mode\n",
    "Sat_Exp['JobSat'].fillna(median_jobsat, inplace=True)\n",
    "\n",
    "# Check if there are still missing values\n",
    "missing_values = Sat_Exp['JobSat'].isna().sum()\n",
    "print(f'Missing values in JobSat after filling: {missing_values}')"
   ]
  },
  {
   "cell_type": "code",
   "execution_count": 102,
   "metadata": {},
   "outputs": [
    {
     "data": {
      "text/plain": [
       "count    51610.000000\n",
       "mean         7.422922\n",
       "std          1.624307\n",
       "min          0.000000\n",
       "25%          7.000000\n",
       "50%          8.000000\n",
       "75%          8.000000\n",
       "max         10.000000\n",
       "Name: JobSat, dtype: float64"
      ]
     },
     "execution_count": 102,
     "metadata": {},
     "output_type": "execute_result"
    }
   ],
   "source": [
    "Sat_Exp['JobSat'].describe()"
   ]
  },
  {
   "cell_type": "code",
   "execution_count": 103,
   "metadata": {},
   "outputs": [
    {
     "data": {
      "text/plain": [
       "JobSat\n",
       "8.0     30579\n",
       "7.0      6243\n",
       "6.0      3651\n",
       "9.0      3557\n",
       "10.0     2196\n",
       "5.0      1869\n",
       "3.0      1141\n",
       "4.0      1097\n",
       "2.0       736\n",
       "0.0       284\n",
       "1.0       257\n",
       "Name: count, dtype: int64"
      ]
     },
     "execution_count": 103,
     "metadata": {},
     "output_type": "execute_result"
    }
   ],
   "source": [
    "Sat_Exp['JobSat'].value_counts()"
   ]
  },
  {
   "cell_type": "code",
   "execution_count": 106,
   "metadata": {},
   "outputs": [
    {
     "name": "stdout",
     "output_type": "stream",
     "text": [
      "<class 'pandas.core.frame.DataFrame'>\n",
      "Index: 51610 entries, 1 to 65435\n",
      "Data columns (total 2 columns):\n",
      " #   Column        Non-Null Count  Dtype  \n",
      "---  ------        --------------  -----  \n",
      " 0   JobSat        51610 non-null  float64\n",
      " 1   YearsCodePro  51610 non-null  object \n",
      "dtypes: float64(1), object(1)\n",
      "memory usage: 1.2+ MB\n"
     ]
    }
   ],
   "source": [
    "Sat_Exp.info()"
   ]
  },
  {
   "cell_type": "code",
   "execution_count": 107,
   "metadata": {},
   "outputs": [
    {
     "data": {
      "text/plain": [
       "<bound method IndexOpsMixin.value_counts of 1        17\n",
       "2        27\n",
       "6         7\n",
       "9        11\n",
       "11       25\n",
       "         ..\n",
       "65428     7\n",
       "65431    24\n",
       "65432     3\n",
       "65434     5\n",
       "65435     2\n",
       "Name: YearsCodePro, Length: 51610, dtype: object>"
      ]
     },
     "execution_count": 107,
     "metadata": {},
     "output_type": "execute_result"
    }
   ],
   "source": [
    "Sat_Exp['YearsCodePro'].value_counts"
   ]
  },
  {
   "cell_type": "code",
   "execution_count": 109,
   "metadata": {},
   "outputs": [
    {
     "ename": "TypeError",
     "evalue": "hist() got multiple values for argument 'bins'",
     "output_type": "error",
     "traceback": [
      "\u001b[0;31m---------------------------------------------------------------------------\u001b[0m",
      "\u001b[0;31mTypeError\u001b[0m                                 Traceback (most recent call last)",
      "Cell \u001b[0;32mIn[109], line 7\u001b[0m\n\u001b[1;32m      4\u001b[0m \u001b[38;5;66;03m# Plotting the histogram for JobSat against YearsCodePro\u001b[39;00m\n\u001b[1;32m      5\u001b[0m plt\u001b[38;5;241m.\u001b[39mfigure(figsize\u001b[38;5;241m=\u001b[39m(\u001b[38;5;241m12\u001b[39m, \u001b[38;5;241m6\u001b[39m))\n\u001b[0;32m----> 7\u001b[0m \u001b[43mplt\u001b[49m\u001b[38;5;241;43m.\u001b[39;49m\u001b[43mhist\u001b[49m\u001b[43m(\u001b[49m\u001b[43mSat_Exp\u001b[49m\u001b[43m[\u001b[49m\u001b[38;5;124;43m'\u001b[39;49m\u001b[38;5;124;43mYearsCodePro\u001b[39;49m\u001b[38;5;124;43m'\u001b[39;49m\u001b[43m]\u001b[49m\u001b[43m,\u001b[49m\u001b[43m \u001b[49m\u001b[43mSat_Exp\u001b[49m\u001b[43m[\u001b[49m\u001b[38;5;124;43m'\u001b[39;49m\u001b[38;5;124;43mJobSat\u001b[39;49m\u001b[38;5;124;43m'\u001b[39;49m\u001b[43m]\u001b[49m\u001b[43m,\u001b[49m\u001b[43m \u001b[49m\u001b[43mbins\u001b[49m\u001b[38;5;241;43m=\u001b[39;49m\u001b[43m[\u001b[49m\u001b[38;5;241;43m30\u001b[39;49m\u001b[43m,\u001b[49m\u001b[43m \u001b[49m\u001b[38;5;241;43m10\u001b[39;49m\u001b[43m]\u001b[49m\u001b[43m,\u001b[49m\u001b[43m \u001b[49m\u001b[43mcmap\u001b[49m\u001b[38;5;241;43m=\u001b[39;49m\u001b[38;5;124;43m'\u001b[39;49m\u001b[38;5;124;43mBlues\u001b[39;49m\u001b[38;5;124;43m'\u001b[39;49m\u001b[43m)\u001b[49m\n\u001b[1;32m      9\u001b[0m plt\u001b[38;5;241m.\u001b[39mtitle(\u001b[38;5;124m'\u001b[39m\u001b[38;5;124mHistogram of Job Satisfaction Scores by Years of Professional Coding Experience\u001b[39m\u001b[38;5;124m'\u001b[39m)\n\u001b[1;32m     10\u001b[0m plt\u001b[38;5;241m.\u001b[39mxlabel(\u001b[38;5;124m'\u001b[39m\u001b[38;5;124mYears of Professional Coding Experience\u001b[39m\u001b[38;5;124m'\u001b[39m)\n",
      "File \u001b[0;32m/opt/conda/lib/python3.12/site-packages/matplotlib/_api/deprecation.py:453\u001b[0m, in \u001b[0;36mmake_keyword_only.<locals>.wrapper\u001b[0;34m(*args, **kwargs)\u001b[0m\n\u001b[1;32m    447\u001b[0m \u001b[38;5;28;01mif\u001b[39;00m \u001b[38;5;28mlen\u001b[39m(args) \u001b[38;5;241m>\u001b[39m name_idx:\n\u001b[1;32m    448\u001b[0m     warn_deprecated(\n\u001b[1;32m    449\u001b[0m         since, message\u001b[38;5;241m=\u001b[39m\u001b[38;5;124m\"\u001b[39m\u001b[38;5;124mPassing the \u001b[39m\u001b[38;5;132;01m%(name)s\u001b[39;00m\u001b[38;5;124m \u001b[39m\u001b[38;5;132;01m%(obj_type)s\u001b[39;00m\u001b[38;5;124m \u001b[39m\u001b[38;5;124m\"\u001b[39m\n\u001b[1;32m    450\u001b[0m         \u001b[38;5;124m\"\u001b[39m\u001b[38;5;124mpositionally is deprecated since Matplotlib \u001b[39m\u001b[38;5;132;01m%(since)s\u001b[39;00m\u001b[38;5;124m; the \u001b[39m\u001b[38;5;124m\"\u001b[39m\n\u001b[1;32m    451\u001b[0m         \u001b[38;5;124m\"\u001b[39m\u001b[38;5;124mparameter will become keyword-only in \u001b[39m\u001b[38;5;132;01m%(removal)s\u001b[39;00m\u001b[38;5;124m.\u001b[39m\u001b[38;5;124m\"\u001b[39m,\n\u001b[1;32m    452\u001b[0m         name\u001b[38;5;241m=\u001b[39mname, obj_type\u001b[38;5;241m=\u001b[39m\u001b[38;5;124mf\u001b[39m\u001b[38;5;124m\"\u001b[39m\u001b[38;5;124mparameter of \u001b[39m\u001b[38;5;132;01m{\u001b[39;00mfunc\u001b[38;5;241m.\u001b[39m\u001b[38;5;18m__name__\u001b[39m\u001b[38;5;132;01m}\u001b[39;00m\u001b[38;5;124m()\u001b[39m\u001b[38;5;124m\"\u001b[39m)\n\u001b[0;32m--> 453\u001b[0m \u001b[38;5;28;01mreturn\u001b[39;00m \u001b[43mfunc\u001b[49m\u001b[43m(\u001b[49m\u001b[38;5;241;43m*\u001b[39;49m\u001b[43margs\u001b[49m\u001b[43m,\u001b[49m\u001b[43m \u001b[49m\u001b[38;5;241;43m*\u001b[39;49m\u001b[38;5;241;43m*\u001b[39;49m\u001b[43mkwargs\u001b[49m\u001b[43m)\u001b[49m\n",
      "\u001b[0;31mTypeError\u001b[0m: hist() got multiple values for argument 'bins'"
     ]
    },
    {
     "data": {
      "text/plain": [
       "<Figure size 1200x600 with 0 Axes>"
      ]
     },
     "metadata": {},
     "output_type": "display_data"
    }
   ],
   "source": [
    "# Convert YearsCodePro to numeric, forcing errors to NaN\n",
    "Sat_Exp['YearsCodePro'] = pd.to_numeric(Sat_Exp['YearsCodePro'], errors='coerce')\n",
    "\n",
    "# Plotting the histogram for JobSat against YearsCodePro\n",
    "plt.figure(figsize=(12, 6))\n",
    "\n",
    "plt.hist(Sat_Exp['YearsCodePro'], Sat_Exp['JobSat'], bins=[30, 10], cmap='Blues')\n",
    "\n",
    "plt.title('Histogram of Job Satisfaction Scores by Years of Professional Coding Experience')\n",
    "plt.xlabel('Years of Professional Coding Experience')\n",
    "plt.ylabel('Job Satisfaction Score')\n",
    "plt.colorbar(label='Frequency')\n",
    "plt.show()\n"
   ]
  },
  {
   "cell_type": "code",
   "execution_count": 111,
   "metadata": {},
   "outputs": [
    {
     "data": {
      "image/png": "[encoded data removed]",
      "text/plain": [
       "<Figure size 1200x600 with 1 Axes>"
      ]
     },
     "metadata": {},
     "output_type": "display_data"
    }
   ],
   "source": [
    "# Convert YearsCodePro to numeric, forcing errors to NaN\n",
    "Sat_Exp['YearsCodePro'] = pd.to_numeric(Sat_Exp['YearsCodePro'], errors='coerce')\n",
    "\n",
    "# Create bins for YearsCodePro\n",
    "bins = [0, 1, 3, 5, 10, 20, 30]\n",
    "labels = ['0-1', '1-3', '3-5', '5-10', '10-20', '20+']\n",
    "\n",
    "# Create a new column for the binned YearsCodePro\n",
    "Sat_Exp['YearsCodePro_binned'] = pd.cut(Sat_Exp['YearsCodePro'], bins=bins, labels=labels, right=False)\n",
    "\n",
    "# Set the color palette\n",
    "colors = sns.color_palette(\"husl\", len(labels))  # You can choose other palettes as well\n",
    "\n",
    "# Plotting the histogram for JobSat based on YearsCodePro bins\n",
    "plt.figure(figsize=(12, 6))\n",
    "\n",
    "# Create a histogram for each bin\n",
    "for i, label in enumerate(labels):\n",
    "    subset = Sat_Exp[Sat_Exp['YearsCodePro_binned'] == label]\n",
    "    plt.hist(subset['JobSat'], bins=10, alpha=0.7, label=f'Years {label}', color=colors[i], edgecolor='black', histtype='stepfilled')\n",
    "\n",
    "plt.title('Histogram of Job Satisfaction Scores by Years of Professional Coding Experience')\n",
    "plt.xlabel('Job Satisfaction Score')\n",
    "plt.ylabel('Frequency')\n",
    "plt.legend(title='Years of Experience')\n",
    "plt.grid(axis='y', linestyle='--', alpha=0.7)\n",
    "plt.show()"
   ]
  },
  {
   "cell_type": "markdown",
   "metadata": {},
   "source": [
    "### Final step: Close the database connection\n"
   ]
  },
  {
   "cell_type": "markdown",
   "metadata": {},
   "source": [
    "Once you've completed the lab, make sure to close the connection to the SQLite database:\n",
    "\n"
   ]
  },
  {
   "cell_type": "code",
   "execution_count": null,
   "metadata": {},
   "outputs": [],
   "source": [
    "conn.close()"
   ]
  },
  {
   "cell_type": "markdown",
   "metadata": {},
   "source": [
    "### Summary\n"
   ]
  },
  {
   "cell_type": "markdown",
   "metadata": {},
   "source": [
    "In this lab, you used histograms to visualize various aspects of the dataset, focusing on:\n",
    "\n",
    "- Distribution of compensation, coding experience, and work hours.\n",
    "\n",
    "- Relationships in compensation across age groups and work status.\n",
    "\n",
    "- Composition of data by desired databases and work environments.\n",
    "\n",
    "- Comparisons of job satisfaction across years of experience.\n",
    "\n",
    "Histograms helped reveal patterns and distributions in the data, enhancing your understanding of developer demographics and preferences.\n"
   ]
  },
  {
   "cell_type": "markdown",
   "metadata": {},
   "source": [
    "## Authors:\n",
    "Ayushi Jain\n"
   ]
  },
  {
   "cell_type": "markdown",
   "metadata": {},
   "source": [
    "### Other Contributors:\n",
    "- Rav Ahuja\n",
    "- Lakshmi Holla\n",
    "- Malika\n"
   ]
  },
  {
   "cell_type": "markdown",
   "metadata": {},
   "source": [
    "Copyright © IBM Corporation. All rights reserved.\n"
   ]
  }
 ],
 "metadata": {
  "kernelspec": {
   "display_name": "Python 3 (ipykernel)",
   "language": "python",
   "name": "python3"
  },
  "language_info": {
   "codemirror_mode": {
    "name": "ipython",
    "version": 3
   },
   "file_extension": ".py",
   "mimetype": "text/x-python",
   "name": "python",
   "nbconvert_exporter": "python",
   "pygments_lexer": "ipython3",
   "version": "3.12.8"
  },
  "prev_pub_hash": "96337e0806230d5187f9ae047a46e5046c13ed59019c1578bf93b4db5d0dcf76"
 },
 "nbformat": 4,
 "nbformat_minor": 4
}
